{
 "cells": [
  {
   "cell_type": "code",
   "execution_count": 72,
   "metadata": {},
   "outputs": [
    {
     "name": "stdout",
     "output_type": "stream",
     "text": [
      "Defaulting to user installation because normal site-packages is not writeable\n",
      "Collecting matplotlib\n",
      "  Downloading matplotlib-3.2.0-cp36-cp36m-manylinux1_x86_64.whl (12.4 MB)\n",
      "\u001b[K     |████████████████████████████████| 12.4 MB 228 kB/s ta 0:00:014    |███████████████████▍            | 7.5 MB 294 kB/s eta 0:00:17\n",
      "\u001b[?25hCollecting pyparsing!=2.0.4,!=2.1.2,!=2.1.6,>=2.0.1\n",
      "  Downloading pyparsing-2.4.6-py2.py3-none-any.whl (67 kB)\n",
      "\u001b[K     |████████████████████████████████| 67 kB 450 kB/s eta 0:00:01\n",
      "\u001b[?25hRequirement already satisfied: python-dateutil>=2.1 in /usr/lib/python3/dist-packages (from matplotlib) (2.6.1)\n",
      "Collecting kiwisolver>=1.0.1\n",
      "  Using cached kiwisolver-1.1.0-cp36-cp36m-manylinux1_x86_64.whl (90 kB)\n",
      "Requirement already satisfied: numpy>=1.11 in /home/tardis/.local/lib/python3.6/site-packages (from matplotlib) (1.18.1)\n",
      "Collecting cycler>=0.10\n",
      "  Using cached cycler-0.10.0-py2.py3-none-any.whl (6.5 kB)\n",
      "Requirement already satisfied: setuptools in /home/tardis/.local/lib/python3.6/site-packages (from kiwisolver>=1.0.1->matplotlib) (41.0.1)\n",
      "Requirement already satisfied: six in /home/tardis/.local/lib/python3.6/site-packages (from cycler>=0.10->matplotlib) (1.12.0)\n",
      "Installing collected packages: pyparsing, kiwisolver, cycler, matplotlib\n",
      "Successfully installed cycler-0.10.0 kiwisolver-1.1.0 matplotlib-3.2.0 pyparsing-2.4.6\n"
     ]
    }
   ],
   "source": [
    "!{sys.executable} -m pip install matplotlib\n",
    "!{sys.executable} -m pip install scipy\n",
    "\n",
    "import sys\n",
    "from scipy.stats import binom\n",
    "import matplotlib.pyplot as plt"
   ]
  },
  {
   "cell_type": "markdown",
   "metadata": {},
   "source": [
    "There are eleven urns labelled by $u_i$, $i \\in \\{0,1,2,...,10\\}$, each containing ten balls. Urn $u_i$ contains\n",
    "$i$ black balls and $10 - i$ white balls. Fred selects an urn $u_i$ at random and draws $N$ times with replacement\n",
    "from that urn, obtaining $n_B$ blacks and $N - n_B$ whites. Fred's friend, Bill, looks on. If after N draws, $n_B$\n",
    "blacks have been drawn, what is the probability that the urn Fred is using is urn $u$, from Bill's point of view?\n"
   ]
  },
  {
   "cell_type": "markdown",
   "metadata": {},
   "source": [
    "For $N = 10$, $n_B = 3$"
   ]
  },
  {
   "cell_type": "code",
   "execution_count": 73,
   "metadata": {},
   "outputs": [
    {
     "name": "stdout",
     "output_type": "stream",
     "text": [
      "[0.0, 0.06307262464852743, 0.22123978796752994, 0.29321985989557936, 0.23625557435790417, 0.1287785055858141, 0.04666776777440084, 0.009892048584565574, 0.0008642179217481621, 9.61326393057878e-06, 0.0]\n"
     ]
    }
   ],
   "source": [
    "urn_dist = []\n",
    "pu = 1/11 # prob of urn u_i for all i\n",
    "marg_nb = 0 # marginal probability p(nb = 3 | N = 10) for all u_i\n",
    "for j in range(0, 11):\n",
    "    marg_nb += pu * binom.pmf(3, 10, j/10)\n",
    "\n",
    "for i in range(0,11):\n",
    "    # p(u = i | nb = 3, N = 10)\n",
    "    # = p(u = i) * p(nb = 3 | u = i, N = 10) / p(nb = 3 | N = 10)\n",
    "    pu_cond = pu * binom.pmf(3, 10, i/10) / marg_nb\n",
    "    urn_dist.append(pu_cond)\n",
    "\n",
    "print(urn_dist)"
   ]
  },
  {
   "cell_type": "code",
   "execution_count": 75,
   "metadata": {},
   "outputs": [
    {
     "data": {
      "text/plain": [
       "[<matplotlib.lines.Line2D at 0x7f6bb1516cf8>]"
      ]
     },
     "execution_count": 75,
     "metadata": {},
     "output_type": "execute_result"
    },
    {
     "data": {
      "image/png": "[encoded data removed]",
      "text/plain": [
       "<Figure size 432x288 with 1 Axes>"
      ]
     },
     "metadata": {
      "needs_background": "light"
     },
     "output_type": "display_data"
    }
   ],
   "source": [
    "plt.plot(urn_dist)"
   ]
  }
 ],
 "metadata": {
  "kernelspec": {
   "display_name": "Python 3",
   "language": "python",
   "name": "python3"
  },
  "language_info": {
   "codemirror_mode": {
    "name": "ipython",
    "version": 3
   },
   "file_extension": ".py",
   "mimetype": "text/x-python",
   "name": "python",
   "nbconvert_exporter": "python",
   "pygments_lexer": "ipython3",
   "version": "3.6.9"
  }
 },
 "nbformat": 4,
 "nbformat_minor": 2
}
